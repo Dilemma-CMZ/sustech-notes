{
 "cells": [
  {
   "cell_type": "code",
   "execution_count": 4,
   "metadata": {
    "collapsed": false,
    "jupyter": {
     "outputs_hidden": false
    }
   },
   "outputs": [],
   "source": [
    "import numpy as np\n",
    "# rng = np.random.default_rng(2020)"
   ]
  },
  {
   "cell_type": "markdown",
   "metadata": {
    "collapsed": false,
    "jupyter": {
     "outputs_hidden": false
    }
   },
   "source": [
    "# Solve the n-Queen problem with Simulated Annealing.\n",
    "#### What will be tested:\n",
    "* That you understand every line of your code, not just copy from somewhere\n",
    "* That your program compiles correctly\n",
    "* Correctness of the program logic\n",
    "* That the result is obtained in a reasonable time\n",
    "#### What you need to do:\n",
    "* Complete the `value` function\n",
    "* Implement two search operators in `swap` and `permutation`\n",
    "* Implement the replacement in `simulated_annealing`"
   ]
  },
  {
   "cell_type": "code",
   "execution_count": 5,
   "metadata": {},
   "outputs": [],
   "source": [
    "class NQueenProblem:\n",
    "    def __init__(self, grid, n, method) -> None:\n",
    "        # grid is a 1D array, each element represents the position of a queen\n",
    "        # In init state of the n-queen problem, if n = 8, grid = [0, 1, 2, 3, 4, 5, 6, 7]\n",
    "        # represents the following state:\n",
    "        # 1 0 0 0 0 0 0 0\n",
    "        # 0 1 0 0 0 0 0 0\n",
    "        # 0 0 1 0 0 0 0 0\n",
    "        # 0 0 0 1 0 0 0 0\n",
    "        # 0 0 0 0 1 0 0 0\n",
    "        # 0 0 0 0 0 1 0 0\n",
    "        # 0 0 0 0 0 0 1 0\n",
    "        # 0 0 0 0 0 0 0 1\n",
    "        # all queens in the initial state have conflicts with each other\n",
    "        self.grid = grid\n",
    "        self.n = n\n",
    "        self.method = method\n",
    "\n",
    "    def value(self):\n",
    "        # TODO: evaluate the current state, return a scalar value\n",
    "        # the evaluation function calculates the number of attacking pairs of queens on the board\n",
    "        # return the number of conflicts\n",
    "        conflicts = 0\n",
    "        for i in range(self.n):\n",
    "            x0, y0 = self.grid[i], i\n",
    "            for j in range(i + 1, self.n):\n",
    "                x1, y1 = self.grid[j], j\n",
    "                if x0 == x1:\n",
    "                    conflicts += 1\n",
    "                elif abs(x0 - x1) == abs(y0 - y1):\n",
    "                    conflicts += 1\n",
    "        return conflicts\n",
    "\n",
    "    def local_search(self):\n",
    "        # using the method to generate a new grid\n",
    "        new_grid = self.method(self.grid, self.n)\n",
    "        return NQueenProblem(new_grid, self.n, self.method)\n",
    "\n",
    "    def print_grid(self):\n",
    "        matrix = np.zeros((self.n, self.n))\n",
    "        for i in range(self.n):\n",
    "            matrix[self.grid[i], i] = 1\n",
    "        for i in range(self.n):\n",
    "            for j in range(self.n):\n",
    "                print(int(matrix[i, j]), end=' ')\n",
    "            print()\n"
   ]
  },
  {
   "cell_type": "markdown",
   "metadata": {
    "collapsed": false,
    "jupyter": {
     "outputs_hidden": false
    }
   },
   "source": [
    "#### Check the correctness of the value function:"
   ]
  },
  {
   "cell_type": "code",
   "execution_count": 6,
   "metadata": {
    "collapsed": false,
    "jupyter": {
     "outputs_hidden": false
    }
   },
   "outputs": [
    {
     "name": "stdout",
     "output_type": "stream",
     "text": [
      "0 0 0 0 0 0 0 1 \n",
      "0 0 0 1 0 0 0 0 \n",
      "0 0 0 0 0 0 1 0 \n",
      "0 0 0 0 0 1 0 0 \n",
      "0 1 0 0 0 0 0 0 \n",
      "0 0 0 0 1 0 0 0 \n",
      "0 0 1 0 0 0 0 0 \n",
      "1 0 0 0 0 0 0 0 \n"
     ]
    },
    {
     "data": {
      "text/plain": [
       "5"
      ]
     },
     "execution_count": 6,
     "metadata": {},
     "output_type": "execute_result"
    }
   ],
   "source": [
    "grid = np.array([7,4,6,1,5,3,2,0])\n",
    "problem = NQueenProblem(grid, 8, None)\n",
    "problem.print_grid()\n",
    "problem.value()"
   ]
  },
  {
   "cell_type": "code",
   "execution_count": 10,
   "metadata": {
    "collapsed": false,
    "jupyter": {
     "outputs_hidden": false
    }
   },
   "outputs": [],
   "source": [
    "def simulated_annealing(initial:NQueenProblem, schedule, halt, log_interval=200):\n",
    "    state = initial\n",
    "    t = 0           # time step\n",
    "    T = schedule(t) # temperature\n",
    "    f = [state.value()] # a recording of values\n",
    "    while not halt(T):\n",
    "        T = schedule(t)\n",
    "        new_state = state.local_search()\n",
    "        new_value = new_state.value()\n",
    "\n",
    "        # TODO: implement the replacement here\n",
    "        delta_E = new_value - state.value()\n",
    "\n",
    "        if delta_E < 0 or np.random.random() < np.exp(-delta_E / T):\n",
    "            state = new_state\n",
    "            f.append(new_value)\n",
    "        \n",
    "        # update time and temperature\n",
    "        if t % log_interval == 0:\n",
    "            print(f\"step {t}: T={T}, current_value={state.value()}\")\n",
    "        if new_value == 0:\n",
    "            break\n",
    "        t += 1\n",
    "        T = schedule(t)\n",
    "    print(f\"step {t}: T={T}, current_value={state.value()}\")\n",
    "    return state, f"
   ]
  },
  {
   "cell_type": "code",
   "execution_count": 11,
   "metadata": {
    "collapsed": false,
    "jupyter": {
     "outputs_hidden": false
    }
   },
   "outputs": [],
   "source": [
    "# Operator 1  \n",
    "def swap(grid, n):\n",
    "     # TODO: swap two positions in the grid\n",
    "    new_grid = grid.copy()\n",
    "    i, j = np.random.choice(n, size=2, replace=False)\n",
    "    new_grid[i], new_grid[j] = new_grid[j], new_grid[i]\n",
    "    return new_grid\n",
    "\n",
    "# Operator 2 \n",
    "def permutation(grid, n):\n",
    "     # TODO: random shuffling sequences(grid)\n",
    "    new_grid = grid.copy()\n",
    "    np.random.shuffle(new_grid)\n",
    "    return new_grid"
   ]
  },
  {
   "cell_type": "code",
   "execution_count": 12,
   "metadata": {
    "collapsed": false,
    "jupyter": {
     "outputs_hidden": false
    }
   },
   "outputs": [
    {
     "name": "stdout",
     "output_type": "stream",
     "text": [
      "step 0: T=1.0, current_value=46\n",
      "step 100: T=0.9047921471137089, current_value=2\n",
      "step 200: T=0.8186488294786356, current_value=4\n",
      "step 300: T=0.7407070321560992, current_value=2\n",
      "step 400: T=0.6701859060067401, current_value=1\n",
      "step 500: T=0.6063789448611847, current_value=1\n",
      "step 600: T=0.5486469074854967, current_value=2\n",
      "step 700: T=0.49641141343109896, current_value=2\n",
      "step 800: T=0.4491491486100751, current_value=2\n",
      "step 894: T=0.40883349920850703, current_value=0\n",
      "0 0 0 0 0 0 0 0 1 0 0 0 \n",
      "0 0 0 0 1 0 0 0 0 0 0 0 \n",
      "0 0 0 0 0 0 0 0 0 1 0 0 \n",
      "0 0 0 0 0 0 0 1 0 0 0 0 \n",
      "0 0 0 0 0 1 0 0 0 0 0 0 \n",
      "0 1 0 0 0 0 0 0 0 0 0 0 \n",
      "0 0 0 0 0 0 0 0 0 0 0 1 \n",
      "1 0 0 0 0 0 0 0 0 0 0 0 \n",
      "0 0 0 0 0 0 1 0 0 0 0 0 \n",
      "0 0 0 1 0 0 0 0 0 0 0 0 \n",
      "0 0 0 0 0 0 0 0 0 0 1 0 \n",
      "0 0 1 0 0 0 0 0 0 0 0 0 \n"
     ]
    },
    {
     "data": {
      "text/plain": [
       "(array([ 7,  5, 11,  9,  1,  4,  8,  3,  0,  2, 10,  6]), 0)"
      ]
     },
     "execution_count": 12,
     "metadata": {},
     "output_type": "execute_result"
    }
   ],
   "source": [
    "#Run the simulated annealing algorithm for the N-Queens problem using Operator 1:swap and observe the results\n",
    "rng = np.random.default_rng(200)\n",
    "solution, record = simulated_annealing(\n",
    "    # random\n",
    "    initial=NQueenProblem(np.arange(12), 12, swap),\n",
    "    schedule=lambda t: 0.999**t,\n",
    "    halt=lambda T: T<1e-7,\n",
    "    log_interval=100\n",
    ")\n",
    "solution.print_grid()\n",
    "solution.grid, solution.value()"
   ]
  },
  {
   "cell_type": "code",
   "execution_count": 13,
   "metadata": {
    "collapsed": false,
    "jupyter": {
     "outputs_hidden": false
    }
   },
   "outputs": [
    {
     "data": {
      "image/png": "[encoded data removed]",
      "text/plain": [
       "<Figure size 640x480 with 1 Axes>"
      ]
     },
     "metadata": {},
     "output_type": "display_data"
    }
   ],
   "source": [
    "import matplotlib.pyplot as plt\n",
    "\n",
    "plt.plot(record)\n",
    "plt.xlabel('step')\n",
    "plt.ylabel('value')\n",
    "plt.show()"
   ]
  },
  {
   "cell_type": "code",
   "execution_count": 14,
   "metadata": {
    "collapsed": false,
    "jupyter": {
     "outputs_hidden": false
    }
   },
   "outputs": [
    {
     "name": "stdout",
     "output_type": "stream",
     "text": [
      "step 0: T=1.0, current_value=5\n",
      "step 200: T=0.8186488294786356, current_value=4\n",
      "step 400: T=0.6701859060067401, current_value=2\n",
      "step 600: T=0.5486469074854967, current_value=1\n",
      "step 800: T=0.4491491486100751, current_value=1\n",
      "step 1000: T=0.36769542477096373, current_value=2\n",
      "step 1200: T=0.3010134290933991, current_value=2\n",
      "step 1400: T=0.2464242913846615, current_value=2\n",
      "step 1600: T=0.20173495769715533, current_value=2\n",
      "step 1800: T=0.16515008698369826, current_value=2\n",
      "step 2000: T=0.13519992539749945, current_value=2\n",
      "step 2200: T=0.11068126067226176, current_value=2\n",
      "step 2400: T=0.09060908449456684, current_value=2\n",
      "step 2600: T=0.07417702096160793, current_value=2\n",
      "step 2800: T=0.060724931384432544, current_value=2\n",
      "step 3000: T=0.04971239399803616, current_value=1\n",
      "step 3200: T=0.04069699315707305, current_value=1\n",
      "step 3400: T=0.033316545811337896, current_value=1\n",
      "step 3600: T=0.027274551230723105, current_value=1\n",
      "step 3800: T=0.02232827943958655, current_value=1\n",
      "step 4000: T=0.018279019827489414, current_value=1\n",
      "step 4044: T=0.017491795282170482, current_value=0\n",
      "0 0 0 0 0 0 0 0 0 0 0 1 \n",
      "0 0 0 0 0 0 0 0 0 1 0 0 \n",
      "0 0 1 0 0 0 0 0 0 0 0 0 \n",
      "0 0 0 0 0 1 0 0 0 0 0 0 \n",
      "0 0 0 0 0 0 0 0 1 0 0 0 \n",
      "0 1 0 0 0 0 0 0 0 0 0 0 \n",
      "0 0 0 1 0 0 0 0 0 0 0 0 \n",
      "1 0 0 0 0 0 0 0 0 0 0 0 \n",
      "0 0 0 0 0 0 0 1 0 0 0 0 \n",
      "0 0 0 0 0 0 0 0 0 0 1 0 \n",
      "0 0 0 0 1 0 0 0 0 0 0 0 \n",
      "0 0 0 0 0 0 1 0 0 0 0 0 \n"
     ]
    },
    {
     "data": {
      "text/plain": [
       "(array([ 7,  5,  2,  6, 10,  3, 11,  8,  4,  1,  9,  0]), 0)"
      ]
     },
     "execution_count": 14,
     "metadata": {},
     "output_type": "execute_result"
    }
   ],
   "source": [
    "#Run the simulated annealing algorithm for the N-Queens problem using Operator 1:swap and observe the results\n",
    "#Compare the effects of the two Operators and attempt to explain the differences.\n",
    "solution, record = simulated_annealing(\n",
    "    initial=NQueenProblem(np.arange(12), 12, permutation),\n",
    "    schedule=lambda t: 0.999**t,\n",
    "    halt=lambda T: T<1e-7,\n",
    "    log_interval=200\n",
    ")\n",
    "solution.print_grid()\n",
    "solution.grid, solution.value()"
   ]
  },
  {
   "cell_type": "code",
   "execution_count": 15,
   "metadata": {
    "collapsed": false,
    "jupyter": {
     "outputs_hidden": false
    }
   },
   "outputs": [
    {
     "data": {
      "image/png": "[encoded data removed]",
      "text/plain": [
       "<Figure size 640x480 with 1 Axes>"
      ]
     },
     "metadata": {},
     "output_type": "display_data"
    }
   ],
   "source": [
    "plt.plot(record)\n",
    "plt.xlabel('step')\n",
    "plt.ylabel('value')\n",
    "plt.show()"
   ]
  },
  {
   "cell_type": "code",
   "execution_count": null,
   "metadata": {},
   "outputs": [],
   "source": []
  }
 ],
 "metadata": {
  "kernelspec": {
   "display_name": "Python 3 (ipykernel)",
   "language": "python",
   "name": "python3"
  },
  "language_info": {
   "codemirror_mode": {
    "name": "ipython",
    "version": 3
   },
   "file_extension": ".py",
   "mimetype": "text/x-python",
   "name": "python",
   "nbconvert_exporter": "python",
   "pygments_lexer": "ipython3",
   "version": "3.12.5"
  }
 },
 "nbformat": 4,
 "nbformat_minor": 4
}
